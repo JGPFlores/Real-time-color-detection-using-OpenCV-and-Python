{
 "cells": [
  {
   "cell_type": "markdown",
   "metadata": {},
   "source": [
    "# Detección de color rojo en tiempo real y cálculo del espacio de color en RGB\n",
    "\n",
    "**Curso:** Detección de colores en tiempo real utilizando Python y OpenCV </br>\n",
    "**Autor:** Jesús Guadalupe Pérez Flores</br>\n",
    "**Lugar:** Mineral de la Reforma, Hidalgo, México. </br>\n",
    "**Fecha:** Octubre 2023 </br>\n",
    "\n",
    "## Descripción\n",
    "Este código utiliza OpenCV (Open Source Computer Vision Library) y Python para detectar el color rojo en tiempo real desde una cámara web y después calcula su espacio de color y lo reprtra en el formato RGB. \n",
    "A continuación, te explico las partes clave del código:"
   ]
  },
  {
   "cell_type": "markdown",
   "metadata": {},
   "source": [
    "### 1. Importación de bibliotecas\n",
    "Se importan las bibliotecas necesarias:\n",
    "- `cv2`: Esta es la biblioteca OpenCV que se utiliza para el procesamiento de imágenes y video.\n",
    "- `numpy`: Se utiliza para operaciones matemáticas y manipulación de matrices."
   ]
  },
  {
   "cell_type": "code",
   "execution_count": 1,
   "metadata": {},
   "outputs": [],
   "source": [
    "import cv2\n",
    "import numpy as np"
   ]
  },
  {
   "cell_type": "markdown",
   "metadata": {},
   "source": [
    "### 2. Definir una función para detectar objetos de color rojo y calcular el espacio de color promedio en RGB\n",
    "- Esta función toma un frame de imagen como entrada y realiza la detección de objetos de color rojo en ese frame.\n",
    "- El frame se convierte primero del espacio de color BGR al espacio de color HSV (Hue, Saturation, Value), lo que facilita la detección de colores.\n",
    "- Se definen dos rangos de valores HSV para el color rojo, ya que el color rojo se encuentra en dos extremos del espectro de colores. Estos rangos se almacenan en `lower_red` y `upper_red`.\n",
    "- Se crean dos máscaras `mask1` y `mask2` utilizando estos rangos para aislar las áreas de color rojo en el frame.\n",
    "- Luego, las dos máscaras se combinan en una sola máscara llamada mask.\n",
    "- Se aplican operaciones morfológicas para eliminar el ruido en la máscara.\n",
    "- Se encuentran los contornos en la máscara que representan objetos de color rojo.\n",
    "- Para cada contorno, si su área es mayor que 1000 píxeles, se dibuja un rectángulo alrededor del objeto rojo en el frame y se calcula el espacio de color promedio dentro de ese rectángulo en el espacio de color BGR (Blue, Green, Red). El espacio de color promedio se muestra como una etiqueta en el frame."
   ]
  },
  {
   "cell_type": "code",
   "execution_count": null,
   "metadata": {},
   "outputs": [],
   "source": [
    "def detect_red_objects(frame):\n",
    "    # Convertir el frame a espacio de color HSV\n",
    "    hsv = cv2.cvtColor(frame, cv2.COLOR_BGR2HSV)\n",
    "\n",
    "    # Definir un rango de valores HSV para el color rojo\n",
    "    lower_red = np.array([0, 100, 100])\n",
    "    upper_red = np.array([10, 255, 255])\n",
    "\n",
    "    # Crear una máscara para el rango de color rojo\n",
    "    mask1 = cv2.inRange(hsv, lower_red, upper_red)\n",
    "\n",
    "    # Definir un segundo rango de valores HSV para el color rojo\n",
    "    lower_red = np.array([160, 100, 100])\n",
    "    upper_red = np.array([179, 255, 255])\n",
    "\n",
    "    # Crear una segunda máscara para el rango de color rojo\n",
    "    mask2 = cv2.inRange(hsv, lower_red, upper_red)\n",
    "\n",
    "    # Combinar las máscaras para detectar todos los tonos de rojo\n",
    "    mask = mask1 + mask2\n",
    "\n",
    "    # Aplicar operaciones morfológicas para eliminar el ruido\n",
    "    mask = cv2.morphologyEx(mask, cv2.MORPH_OPEN, np.ones((5, 5), np.uint8))\n",
    "    mask = cv2.morphologyEx(mask, cv2.MORPH_CLOSE, np.ones((20, 20), np.uint8))\n",
    "\n",
    "    # Encontrar contornos en la máscara\n",
    "    contours, _ = cv2.findContours(mask, cv2.RETR_EXTERNAL, cv2.CHAIN_APPROX_SIMPLE)\n",
    "\n",
    "    # Dibujar rectángulos alrededor de los objetos rojos detectados y calcular el espacio de color promedio\n",
    "    for contour in contours:\n",
    "        if cv2.contourArea(contour) > 1000:  # Filtrar contornos pequeños\n",
    "            x, y, w, h = cv2.boundingRect(contour)\n",
    "            cv2.rectangle(frame, (x, y), (x + w, y + h), (0, 0, 255), 2)\n",
    "\n",
    "            # Calcular el espacio de color promedio dentro del contorno en RGB\n",
    "            roi = frame[y:y + h, x:x + w]\n",
    "            average_color = np.mean(roi, axis=(0, 1))  # Calcular el promedio en el espacio BGR\n",
    "            average_color_rgb = average_color[::-1]  # Cambiar el orden de los canales para obtener RGB\n",
    "\n",
    "            # Mostrar el espacio de color promedio como etiqueta\n",
    "            label = f'Color Promedio: RGB({int(average_color_rgb[0])}, {int(average_color_rgb[1])}, {int(average_color_rgb[2])})'\n",
    "            cv2.putText(frame, label, (x, y - 10), cv2.FONT_HERSHEY_SIMPLEX, 0.5, (0, 0, 255), 2)\n",
    "\n",
    "    return frame"
   ]
  },
  {
   "cell_type": "markdown",
   "metadata": {},
   "source": [
    "### 3. Inicializar la cámara web\n",
    "Esto abre la cámara web. El argumento `0` se utiliza para indicar que se utilizará la primera cámara disponible. Puedes cambiar este valor si tienes múltiples cámaras."
   ]
  },
  {
   "cell_type": "code",
   "execution_count": null,
   "metadata": {},
   "outputs": [],
   "source": [
    "cap = cv2.VideoCapture(0)"
   ]
  },
  {
   "cell_type": "markdown",
   "metadata": {},
   "source": [
    "### 4. Bucle principal de captura y procesamiento de imágenes en tiempo real\n",
    "\n",
    "\n",
    "- El programa entra en un bucle infinito (`while True`) donde captura continuamente frames de la cámara web.\n",
    "- La variable `ret` indica si se pudo capturar correctamente un frame.\n",
    "- La función `detect_red_objects(frame)` se llama con cada frame para detectar objetos de color rojo en el frame actual.\n",
    "- El frame modificado con la detección de objetos se muestra en una ventana llamada \"Red Object Detection\" utilizando `cv2.imshow`.\n",
    "- El bucle se ejecuta hasta que se presiona la tecla 'Esc' (código ASCII 27), momento en el que el bucle se rompe.\n",
    "\n"
   ]
  },
  {
   "cell_type": "code",
   "execution_count": null,
   "metadata": {},
   "outputs": [],
   "source": [
    "while True:\n",
    "    ret, frame = cap.read()\n",
    "\n",
    "    if not ret:\n",
    "        break\n",
    "\n",
    "    # Llamar a la función para detectar objetos rojos\n",
    "    frame_with_red_objects = detect_red_objects(frame)\n",
    "\n",
    "    # Mostrar el frame con los objetos rojos detectados\n",
    "    cv2.imshow('Red Object Detection', frame_with_red_objects)\n",
    "\n",
    "    if cv2.waitKey(1) & 0xFF == 27:  # Presionar la tecla 'Esc' para salir\n",
    "        break"
   ]
  },
  {
   "cell_type": "markdown",
   "metadata": {},
   "source": [
    "### 5. liberar la cámara y cerrar las ventanas\n",
    "Cuando se sale del bucle, se libera la cámara web utilizando `cap.release()` y se cierran todas las ventanas de visualización utilizando `cv2.destroyAllWindows()`."
   ]
  },
  {
   "cell_type": "code",
   "execution_count": null,
   "metadata": {},
   "outputs": [],
   "source": [
    "cap.release()\n",
    "cv2.destroyAllWindows()"
   ]
  },
  {
   "cell_type": "markdown",
   "metadata": {},
   "source": [
    "### 6. Código final\n",
    "Se presenta el código con los comentarios listo para su compilación."
   ]
  },
  {
   "cell_type": "code",
   "execution_count": 6,
   "metadata": {},
   "outputs": [],
   "source": [
    "# Importar las bibliotecas\n",
    "import cv2\n",
    "import numpy as np\n",
    "\n",
    "# Función para detectar objetos de color rojo y calcular el espacio de color promedio en RGB\n",
    "def detect_red_objects(frame):\n",
    "    # Convertir el frame a espacio de color HSV\n",
    "    hsv = cv2.cvtColor(frame, cv2.COLOR_BGR2HSV)\n",
    "\n",
    "    # Definir un rango de valores HSV para el color rojo\n",
    "    lower_red = np.array([0, 100, 100])\n",
    "    upper_red = np.array([10, 255, 255])\n",
    "\n",
    "    # Crear una máscara para el rango de color rojo\n",
    "    mask1 = cv2.inRange(hsv, lower_red, upper_red)\n",
    "\n",
    "    # Definir un segundo rango de valores HSV para el color rojo\n",
    "    lower_red = np.array([160, 100, 100])\n",
    "    upper_red = np.array([179, 255, 255])\n",
    "\n",
    "    # Crear una segunda máscara para el rango de color rojo\n",
    "    mask2 = cv2.inRange(hsv, lower_red, upper_red)\n",
    "\n",
    "    # Combinar las máscaras para detectar todos los tonos de rojo\n",
    "    mask = mask1 + mask2\n",
    "\n",
    "    # Aplicar operaciones morfológicas para eliminar el ruido\n",
    "    mask = cv2.morphologyEx(mask, cv2.MORPH_OPEN, np.ones((5, 5), np.uint8))\n",
    "    mask = cv2.morphologyEx(mask, cv2.MORPH_CLOSE, np.ones((20, 20), np.uint8))\n",
    "\n",
    "    # Encontrar contornos en la máscara\n",
    "    contours, _ = cv2.findContours(mask, cv2.RETR_EXTERNAL, cv2.CHAIN_APPROX_SIMPLE)\n",
    "\n",
    "    # Dibujar rectángulos alrededor de los objetos rojos detectados y calcular el espacio de color promedio\n",
    "    for contour in contours:\n",
    "        if cv2.contourArea(contour) > 1000:  # Filtrar contornos pequeños\n",
    "            x, y, w, h = cv2.boundingRect(contour)\n",
    "            cv2.rectangle(frame, (x, y), (x + w, y + h), (0, 0, 255), 2)\n",
    "\n",
    "            # Calcular el espacio de color promedio dentro del contorno en RGB\n",
    "            roi = frame[y:y + h, x:x + w]\n",
    "            average_color = np.mean(roi, axis=(0, 1))  # Calcular el promedio en el espacio BGR\n",
    "            average_color_rgb = average_color[::-1]  # Cambiar el orden de los canales para obtener RGB\n",
    "\n",
    "            # Mostrar el espacio de color promedio como etiqueta\n",
    "            label = f'Color Promedio: RGB({int(average_color_rgb[0])}, {int(average_color_rgb[1])}, {int(average_color_rgb[2])})'\n",
    "            cv2.putText(frame, label, (x, y - 10), cv2.FONT_HERSHEY_SIMPLEX, 0.5, (0, 0, 255), 2)\n",
    "\n",
    "    return frame\n",
    "\n",
    "# Inicializar la cámara web\n",
    "cap = cv2.VideoCapture(0)\n",
    "\n",
    "while True:\n",
    "    ret, frame = cap.read()\n",
    "\n",
    "    if not ret:\n",
    "        break\n",
    "\n",
    "    # Llamar a la función para detectar objetos rojos\n",
    "    frame_with_red_objects = detect_red_objects(frame)\n",
    "\n",
    "    # Mostrar el frame con los objetos rojos detectados\n",
    "    cv2.imshow('Red Object Detection', frame_with_red_objects)\n",
    "\n",
    "    if cv2.waitKey(1) & 0xFF == 27:  # Presionar la tecla 'Esc' para salir\n",
    "        break\n",
    "\n",
    "# Liberar la cámara y cerrar las ventanas\n",
    "cap.release()\n",
    "cv2.destroyAllWindows()\n",
    "\n"
   ]
  }
 ],
 "metadata": {
  "kernelspec": {
   "display_name": "base",
   "language": "python",
   "name": "python3"
  },
  "language_info": {
   "codemirror_mode": {
    "name": "ipython",
    "version": 3
   },
   "file_extension": ".py",
   "mimetype": "text/x-python",
   "name": "python",
   "nbconvert_exporter": "python",
   "pygments_lexer": "ipython3",
   "version": "3.8.15"
  }
 },
 "nbformat": 4,
 "nbformat_minor": 2
}
